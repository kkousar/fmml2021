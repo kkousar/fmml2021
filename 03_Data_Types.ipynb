{
  "nbformat": 4,
  "nbformat_minor": 0,
  "metadata": {
    "colab": {
      "name": "03_Data_Types.ipynb",
      "provenance": [],
      "toc_visible": true,
      "include_colab_link": true
    },
    "kernelspec": {
      "name": "python3",
      "display_name": "Python 3"
    },
    "language_info": {
      "name": "python"
    }
  },
  "cells": [
    {
      "cell_type": "markdown",
      "metadata": {
        "id": "view-in-github",
        "colab_type": "text"
      },
      "source": [
        "<a href=\"https://colab.research.google.com/github/kkousar/fmml2021/blob/main/03_Data_Types.ipynb\" target=\"_parent\"><img src=\"https://colab.research.google.com/assets/colab-badge.svg\" alt=\"Open In Colab\"/></a>"
      ]
    },
    {
      "cell_type": "markdown",
      "metadata": {
        "id": "CPk9Hiozv8JE"
      },
      "source": [
        "#### Basic Data Types - Integer, Float, Boolean, String, None"
      ]
    },
    {
      "cell_type": "code",
      "metadata": {
        "id": "FkdEec_QriO_"
      },
      "source": [
        "some_int = 3"
      ],
      "execution_count": 1,
      "outputs": []
    },
    {
      "cell_type": "code",
      "metadata": {
        "id": "IJ6gUIS24QPb",
        "outputId": "6ab817f1-29c7-4ce3-d2b3-9b2114cb3957",
        "colab": {
          "base_uri": "https://localhost:8080/"
        }
      },
      "source": [
        "type(some_int)"
      ],
      "execution_count": 2,
      "outputs": [
        {
          "output_type": "execute_result",
          "data": {
            "text/plain": [
              "int"
            ]
          },
          "metadata": {},
          "execution_count": 2
        }
      ]
    },
    {
      "cell_type": "code",
      "metadata": {
        "id": "VTce7evQ0ZJ-"
      },
      "source": [
        "some_int += 4"
      ],
      "execution_count": 3,
      "outputs": []
    },
    {
      "cell_type": "code",
      "metadata": {
        "id": "F9kJID_q4Vul"
      },
      "source": [
        "some_int"
      ],
      "execution_count": null,
      "outputs": []
    },
    {
      "cell_type": "code",
      "metadata": {
        "id": "tBmSj1-P0a52"
      },
      "source": [
        "some_other_int = int(5) # casting"
      ],
      "execution_count": 5,
      "outputs": []
    },
    {
      "cell_type": "code",
      "metadata": {
        "id": "Lmdkh7DI4d51",
        "outputId": "a0a39d1a-4a71-4de5-ecb8-69244086d5a1",
        "colab": {
          "base_uri": "https://localhost:8080/"
        }
      },
      "source": [
        "some_other_int"
      ],
      "execution_count": 6,
      "outputs": [
        {
          "output_type": "execute_result",
          "data": {
            "text/plain": [
              "5"
            ]
          },
          "metadata": {},
          "execution_count": 6
        }
      ]
    },
    {
      "cell_type": "code",
      "metadata": {
        "id": "iNTYkoVX0dAF"
      },
      "source": [
        "some_float = 3.0"
      ],
      "execution_count": null,
      "outputs": []
    },
    {
      "cell_type": "code",
      "metadata": {
        "id": "8893F0us0e8U",
        "outputId": "fef72cd0-0a7c-4c02-ee0f-b224574bd423",
        "colab": {
          "base_uri": "https://localhost:8080/"
        }
      },
      "source": [
        "some_float = 3.0\n",
        "type (some_float)"
      ],
      "execution_count": 9,
      "outputs": [
        {
          "output_type": "execute_result",
          "data": {
            "text/plain": [
              "float"
            ]
          },
          "metadata": {},
          "execution_count": 9
        }
      ]
    },
    {
      "cell_type": "code",
      "metadata": {
        "id": "8-XVO-4P4npP",
        "outputId": "340e1b6e-7f04-4197-be84-5968da0c8a38",
        "colab": {
          "base_uri": "https://localhost:8080/"
        }
      },
      "source": [
        "some_int = 3\n",
        "some_other_int = 8\n",
        "something = some_other_int / some_int\n",
        "type (something)\n",
        "print (something)"
      ],
      "execution_count": 13,
      "outputs": [
        {
          "output_type": "stream",
          "name": "stdout",
          "text": [
            "2.6666666666666665\n"
          ]
        }
      ]
    },
    {
      "cell_type": "code",
      "metadata": {
        "id": "Swz27lkw46p4"
      },
      "source": [
        "some_bool = False"
      ],
      "execution_count": 15,
      "outputs": []
    },
    {
      "cell_type": "code",
      "metadata": {
        "id": "1srLd0394-3g",
        "outputId": "71038f38-970f-458b-fd7d-d044eff005bd",
        "colab": {
          "base_uri": "https://localhost:8080/"
        }
      },
      "source": [
        "type(some_bool)"
      ],
      "execution_count": 16,
      "outputs": [
        {
          "output_type": "execute_result",
          "data": {
            "text/plain": [
              "bool"
            ]
          },
          "metadata": {},
          "execution_count": 16
        }
      ]
    },
    {
      "cell_type": "code",
      "metadata": {
        "id": "iVG3-KnQ5B2d",
        "outputId": "5b517821-5f9a-40cd-bbd7-74ad1edecfe2",
        "colab": {
          "base_uri": "https://localhost:8080/"
        }
      },
      "source": [
        "some_other_bool = bool(False)\n",
        "some_other_bool"
      ],
      "execution_count": 17,
      "outputs": [
        {
          "output_type": "execute_result",
          "data": {
            "text/plain": [
              "False"
            ]
          },
          "metadata": {},
          "execution_count": 17
        }
      ]
    },
    {
      "cell_type": "code",
      "metadata": {
        "id": "9BaOPoPV5OWn",
        "outputId": "9e8b5ce6-c945-47f8-8f87-152fbc3b67a5",
        "colab": {
          "base_uri": "https://localhost:8080/"
        }
      },
      "source": [
        "bool()"
      ],
      "execution_count": 18,
      "outputs": [
        {
          "output_type": "execute_result",
          "data": {
            "text/plain": [
              "False"
            ]
          },
          "metadata": {},
          "execution_count": 18
        }
      ]
    },
    {
      "cell_type": "code",
      "metadata": {
        "id": "1clAB1Wn5Qsy",
        "outputId": "b1ba9c8e-4bd4-46c3-8ddf-e518da0e48eb",
        "colab": {
          "base_uri": "https://localhost:8080/"
        }
      },
      "source": [
        "bool([])"
      ],
      "execution_count": 19,
      "outputs": [
        {
          "output_type": "execute_result",
          "data": {
            "text/plain": [
              "False"
            ]
          },
          "metadata": {},
          "execution_count": 19
        }
      ]
    },
    {
      "cell_type": "code",
      "metadata": {
        "id": "ikc1wSRs5TPD",
        "outputId": "e8a264a4-f925-42b0-c426-ee0b24d5fdb8",
        "colab": {
          "base_uri": "https://localhost:8080/"
        }
      },
      "source": [
        "bool({})"
      ],
      "execution_count": 20,
      "outputs": [
        {
          "output_type": "execute_result",
          "data": {
            "text/plain": [
              "False"
            ]
          },
          "metadata": {},
          "execution_count": 20
        }
      ]
    },
    {
      "cell_type": "code",
      "metadata": {
        "id": "YTfUKX2-5VdH",
        "outputId": "3e65821e-1a9d-4486-9925-921b415f9484",
        "colab": {
          "base_uri": "https://localhost:8080/"
        }
      },
      "source": [
        "bool(())"
      ],
      "execution_count": 21,
      "outputs": [
        {
          "output_type": "execute_result",
          "data": {
            "text/plain": [
              "False"
            ]
          },
          "metadata": {},
          "execution_count": 21
        }
      ]
    },
    {
      "cell_type": "code",
      "metadata": {
        "id": "SfbHKsdH5Xq1",
        "outputId": "503681b3-4d79-40c9-839f-e5460830baea",
        "colab": {
          "base_uri": "https://localhost:8080/"
        }
      },
      "source": [
        "bool((1, 3))"
      ],
      "execution_count": 22,
      "outputs": [
        {
          "output_type": "execute_result",
          "data": {
            "text/plain": [
              "True"
            ]
          },
          "metadata": {},
          "execution_count": 22
        }
      ]
    },
    {
      "cell_type": "code",
      "metadata": {
        "id": "7bP-r-os5hTy"
      },
      "source": [
        "some_str = \"hello \"\n",
        "some_other_str = 'happy new year'"
      ],
      "execution_count": 23,
      "outputs": []
    },
    {
      "cell_type": "code",
      "metadata": {
        "id": "bKFczqox5nUc"
      },
      "source": [
        "merge_str = some_str + some_other_str # concatenation"
      ],
      "execution_count": 24,
      "outputs": []
    },
    {
      "cell_type": "code",
      "metadata": {
        "id": "rBqo7-ws5vw3",
        "outputId": "f4f69aaa-3417-4a19-b715-d91847390d8e",
        "colab": {
          "base_uri": "https://localhost:8080/"
        }
      },
      "source": [
        "print (merge_str)"
      ],
      "execution_count": 25,
      "outputs": [
        {
          "output_type": "stream",
          "name": "stdout",
          "text": [
            "hello happy new year\n"
          ]
        }
      ]
    },
    {
      "cell_type": "code",
      "metadata": {
        "id": "K29mB5kW6Bub"
      },
      "source": [
        "for every_char in merge_str:\n",
        "  print (every_char)"
      ],
      "execution_count": null,
      "outputs": []
    },
    {
      "cell_type": "code",
      "metadata": {
        "id": "zGEuwObI6mpi"
      },
      "source": [
        "for every_char in merge_str: print (every_char, end=\"\")"
      ],
      "execution_count": null,
      "outputs": []
    },
    {
      "cell_type": "markdown",
      "metadata": {
        "id": "icfeOEilxRpS"
      },
      "source": [
        "#### Type Casting"
      ]
    },
    {
      "cell_type": "code",
      "metadata": {
        "id": "k4KUIUtMxkDs"
      },
      "source": [
        "i = 4\n",
        "j = float(i)\n",
        "print (j)"
      ],
      "execution_count": null,
      "outputs": []
    },
    {
      "cell_type": "code",
      "metadata": {
        "id": "2emiqfVo2LXn",
        "outputId": "6257226d-2f9c-4b1b-9e3a-502db956dcda",
        "colab": {
          "base_uri": "https://localhost:8080/"
        }
      },
      "source": [
        "type(j)"
      ],
      "execution_count": 29,
      "outputs": [
        {
          "output_type": "execute_result",
          "data": {
            "text/plain": [
              "float"
            ]
          },
          "metadata": {},
          "execution_count": 29
        }
      ]
    },
    {
      "cell_type": "code",
      "metadata": {
        "id": "eKw6bw3T2UhB",
        "outputId": "81c19de1-3732-4412-d758-78180414b724",
        "colab": {
          "base_uri": "https://localhost:8080/"
        }
      },
      "source": [
        "i = int(j)\n",
        "type(i)\n",
        "print(i)"
      ],
      "execution_count": 31,
      "outputs": [
        {
          "output_type": "stream",
          "name": "stdout",
          "text": [
            "4\n"
          ]
        }
      ]
    },
    {
      "cell_type": "code",
      "metadata": {
        "id": "l0pRioZH2ZFp",
        "outputId": "ac9361ce-72f3-44b2-accb-28fd734c1275",
        "colab": {
          "base_uri": "https://localhost:8080/"
        }
      },
      "source": [
        "some_str = str(i)\n",
        "print(some_str)"
      ],
      "execution_count": 32,
      "outputs": [
        {
          "output_type": "stream",
          "name": "stdout",
          "text": [
            "4\n"
          ]
        }
      ]
    },
    {
      "cell_type": "code",
      "metadata": {
        "id": "tLKkWWrA2fOa",
        "outputId": "1fd8b5c6-6f24-4650-895e-eb4b8e2139dc",
        "colab": {
          "base_uri": "https://localhost:8080/"
        }
      },
      "source": [
        "some_other_str = str(j)\n",
        "print (some_other_str)\n",
        "print (\"the new string now is \" + some_other_str) # string concatenation"
      ],
      "execution_count": 33,
      "outputs": [
        {
          "output_type": "stream",
          "name": "stdout",
          "text": [
            "4.0\n",
            "the new string now is 4.0\n"
          ]
        }
      ]
    },
    {
      "cell_type": "code",
      "metadata": {
        "id": "BzvOEP7S3DM7"
      },
      "source": [
        "some_bool = bool(some_other_str)"
      ],
      "execution_count": 34,
      "outputs": []
    },
    {
      "cell_type": "code",
      "metadata": {
        "id": "Ezy9S--R3ILJ",
        "outputId": "a3be69c7-d23a-4c33-9f05-86c6947d87bb",
        "colab": {
          "base_uri": "https://localhost:8080/"
        }
      },
      "source": [
        "print(some_bool)"
      ],
      "execution_count": 36,
      "outputs": [
        {
          "output_type": "stream",
          "name": "stdout",
          "text": [
            "True\n"
          ]
        }
      ]
    },
    {
      "cell_type": "markdown",
      "metadata": {
        "id": "sIYTZKz11myP"
      },
      "source": [
        "#### Set"
      ]
    },
    {
      "cell_type": "code",
      "metadata": {
        "id": "pUSDI8dcVz0m"
      },
      "source": [
        "# Set - collection of items which are not in any particular order and are not indexed. \n",
        "# Duplicates are not allowed in set\n",
        "# Constructor is set()\n",
        "some_set = {'a', 'c', (2.3, 3.2, 2)}"
      ],
      "execution_count": 39,
      "outputs": []
    },
    {
      "cell_type": "code",
      "metadata": {
        "id": "OQ6C43GzVAiZ",
        "outputId": "5a64d41b-d3c9-4476-f1f9-86d9148c2ec5",
        "colab": {
          "base_uri": "https://localhost:8080/"
        }
      },
      "source": [
        "some_set"
      ],
      "execution_count": 40,
      "outputs": [
        {
          "output_type": "execute_result",
          "data": {
            "text/plain": [
              "{(2.3, 3.2, 2), 'a', 'c'}"
            ]
          },
          "metadata": {},
          "execution_count": 40
        }
      ]
    },
    {
      "cell_type": "code",
      "metadata": {
        "id": "LtTv6v9rU3If"
      },
      "source": [
        "some_set.update([1, 2, 3])"
      ],
      "execution_count": 41,
      "outputs": []
    },
    {
      "cell_type": "code",
      "metadata": {
        "id": "9LP1hydIUOpH",
        "outputId": "c15fae91-d6ad-477b-c605-222c87bf5760",
        "colab": {
          "base_uri": "https://localhost:8080/"
        }
      },
      "source": [
        "some_set"
      ],
      "execution_count": 42,
      "outputs": [
        {
          "output_type": "execute_result",
          "data": {
            "text/plain": [
              "{(2.3, 3.2, 2), 1, 2, 3, 'a', 'c'}"
            ]
          },
          "metadata": {},
          "execution_count": 42
        }
      ]
    },
    {
      "cell_type": "code",
      "metadata": {
        "id": "fPA9CCQ8Q6IN",
        "outputId": "551c6fff-d9eb-4669-b9b4-3a083d9770a7",
        "colab": {
          "base_uri": "https://localhost:8080/"
        }
      },
      "source": [
        "type(some_set)"
      ],
      "execution_count": 43,
      "outputs": [
        {
          "output_type": "execute_result",
          "data": {
            "text/plain": [
              "set"
            ]
          },
          "metadata": {},
          "execution_count": 43
        }
      ]
    },
    {
      "cell_type": "code",
      "metadata": {
        "id": "4IZt6LPeVL3W",
        "outputId": "ad78d166-96ff-4f62-ac13-56c4f06916e4",
        "colab": {
          "base_uri": "https://localhost:8080/"
        }
      },
      "source": [
        "some_set.add(1)\n",
        "some_set"
      ],
      "execution_count": 51,
      "outputs": [
        {
          "output_type": "execute_result",
          "data": {
            "text/plain": [
              "{(2.3, 3.2, 2), 1, 2, 3, 5, 7, 'a', 'c'}"
            ]
          },
          "metadata": {},
          "execution_count": 51
        }
      ]
    },
    {
      "cell_type": "code",
      "metadata": {
        "id": "xr8c_BjPVS18",
        "outputId": "588ec6bc-28dd-4ab1-9a39-3dcacc1b4f02",
        "colab": {
          "base_uri": "https://localhost:8080/"
        }
      },
      "source": [
        "some_set.pop()"
      ],
      "execution_count": 52,
      "outputs": [
        {
          "output_type": "execute_result",
          "data": {
            "text/plain": [
              "2"
            ]
          },
          "metadata": {},
          "execution_count": 52
        }
      ]
    },
    {
      "cell_type": "code",
      "metadata": {
        "id": "Vo38o55yVaPV",
        "outputId": "bc9391f3-02e4-4e3b-8db1-457b4e823a5e",
        "colab": {
          "base_uri": "https://localhost:8080/"
        }
      },
      "source": [
        "for item in some_set: print (item)"
      ],
      "execution_count": 53,
      "outputs": [
        {
          "output_type": "stream",
          "name": "stdout",
          "text": [
            "1\n",
            "3\n",
            "(2.3, 3.2, 2)\n",
            "5\n",
            "7\n",
            "a\n",
            "c\n"
          ]
        }
      ]
    },
    {
      "cell_type": "code",
      "metadata": {
        "id": "gUmIUwNIxkXo"
      },
      "source": [
        ""
      ],
      "execution_count": null,
      "outputs": []
    },
    {
      "cell_type": "code",
      "metadata": {
        "id": "F6yTElmsVhHO"
      },
      "source": [
        "some_set.discard(3)\n",
        "some_set"
      ],
      "execution_count": null,
      "outputs": []
    },
    {
      "cell_type": "code",
      "metadata": {
        "id": "qSk97DfTyAnG",
        "outputId": "6bb7d37f-548d-40e1-f618-c82d7308cbda",
        "colab": {
          "base_uri": "https://localhost:8080/",
          "height": 87
        }
      },
      "source": [
        "for item in some_set: print (item)\n",
        "some_set.pop()"
      ],
      "execution_count": 62,
      "outputs": [
        {
          "output_type": "stream",
          "name": "stdout",
          "text": [
            "1\n",
            "a\n",
            "c\n"
          ]
        },
        {
          "output_type": "execute_result",
          "data": {
            "application/vnd.google.colaboratory.intrinsic+json": {
              "type": "string"
            },
            "text/plain": [
              "'a'"
            ]
          },
          "metadata": {},
          "execution_count": 62
        }
      ]
    },
    {
      "cell_type": "code",
      "metadata": {
        "id": "GheBwU7_yKP7",
        "outputId": "5e83a941-dbc5-496c-c683-db6f91f02c0f",
        "colab": {
          "base_uri": "https://localhost:8080/"
        }
      },
      "source": [
        "for item in some_set: print (item)\n"
      ],
      "execution_count": 63,
      "outputs": [
        {
          "output_type": "stream",
          "name": "stdout",
          "text": [
            "1\n",
            "c\n"
          ]
        }
      ]
    },
    {
      "cell_type": "code",
      "metadata": {
        "id": "1nSJ7F3OXVdK"
      },
      "source": [
        "# set - union operator\n",
        "some_set = {'a', 'b', 'c'}\n",
        "some_other_set = {1, 2, 3}\n",
        "new_set = some_set | some_other_set"
      ],
      "execution_count": 64,
      "outputs": []
    },
    {
      "cell_type": "code",
      "metadata": {
        "id": "o8Wbaj5EXgN5",
        "outputId": "f45cf80e-e67f-4203-ab94-d28ff8ec7b7c",
        "colab": {
          "base_uri": "https://localhost:8080/"
        }
      },
      "source": [
        "new_set"
      ],
      "execution_count": 65,
      "outputs": [
        {
          "output_type": "execute_result",
          "data": {
            "text/plain": [
              "{1, 2, 3, 'a', 'b', 'c'}"
            ]
          },
          "metadata": {},
          "execution_count": 65
        }
      ]
    },
    {
      "cell_type": "code",
      "metadata": {
        "id": "RftwibWYXqXM",
        "outputId": "0e9588b6-5465-4c1f-845d-55ebd9815a49",
        "colab": {
          "base_uri": "https://localhost:8080/"
        }
      },
      "source": [
        "some_set.union(some_other_set)"
      ],
      "execution_count": 66,
      "outputs": [
        {
          "output_type": "execute_result",
          "data": {
            "text/plain": [
              "{1, 2, 3, 'a', 'b', 'c'}"
            ]
          },
          "metadata": {},
          "execution_count": 66
        }
      ]
    },
    {
      "cell_type": "code",
      "metadata": {
        "id": "TOMRqxLqXt8F",
        "outputId": "8e053ba2-2b28-49e9-eed9-4ed83a593472",
        "colab": {
          "base_uri": "https://localhost:8080/"
        }
      },
      "source": [
        "some_set"
      ],
      "execution_count": 67,
      "outputs": [
        {
          "output_type": "execute_result",
          "data": {
            "text/plain": [
              "{'a', 'b', 'c'}"
            ]
          },
          "metadata": {},
          "execution_count": 67
        }
      ]
    },
    {
      "cell_type": "code",
      "metadata": {
        "id": "TsCFAP95Xvi7",
        "outputId": "8f80c792-b1a2-401a-d31d-82eec145f614",
        "colab": {
          "base_uri": "https://localhost:8080/"
        }
      },
      "source": [
        "some_other_set"
      ],
      "execution_count": 68,
      "outputs": [
        {
          "output_type": "execute_result",
          "data": {
            "text/plain": [
              "{1, 2, 3}"
            ]
          },
          "metadata": {},
          "execution_count": 68
        }
      ]
    },
    {
      "cell_type": "code",
      "metadata": {
        "id": "OjaEoS09X-UZ"
      },
      "source": [
        "# intersection - &\n",
        "new_set = {2, 3, 6}"
      ],
      "execution_count": null,
      "outputs": []
    },
    {
      "cell_type": "code",
      "metadata": {
        "id": "iYspF8zbYLWC",
        "outputId": "f08cd34f-4a48-4eff-e3cd-a586f57e4e73",
        "colab": {
          "base_uri": "https://localhost:8080/"
        }
      },
      "source": [
        "print(new_set & some_other_set)"
      ],
      "execution_count": 69,
      "outputs": [
        {
          "output_type": "stream",
          "name": "stdout",
          "text": [
            "{1, 2, 3}\n"
          ]
        }
      ]
    },
    {
      "cell_type": "code",
      "metadata": {
        "id": "oUoeuL3QYcC6",
        "outputId": "00926352-ac35-4d50-d422-7e137f7cfd71",
        "colab": {
          "base_uri": "https://localhost:8080/"
        }
      },
      "source": [
        "print (new_set.intersection(some_other_set))"
      ],
      "execution_count": 70,
      "outputs": [
        {
          "output_type": "stream",
          "name": "stdout",
          "text": [
            "{1, 2, 3}\n"
          ]
        }
      ]
    },
    {
      "cell_type": "markdown",
      "metadata": {
        "id": "j_gdIAq3xkhj"
      },
      "source": [
        "#### List (extended data type)"
      ]
    },
    {
      "cell_type": "code",
      "metadata": {
        "id": "jPVlA4yXykkw"
      },
      "source": [
        "# List\n",
        "# A collection of items which are ordered. List is mutable.\n",
        "# Constructor is list()\n",
        "a = [1, 2, 3, \"hello\", 5]"
      ],
      "execution_count": 72,
      "outputs": []
    },
    {
      "cell_type": "code",
      "metadata": {
        "id": "RcAAcHcO4HVI"
      },
      "source": [
        "a.append('hi')"
      ],
      "execution_count": 73,
      "outputs": []
    },
    {
      "cell_type": "code",
      "metadata": {
        "id": "6aOeQG784Jmc"
      },
      "source": [
        "b = [2, 4, 'next']\n",
        "a.append(b)\n",
        "print (b)"
      ],
      "execution_count": null,
      "outputs": []
    },
    {
      "cell_type": "code",
      "metadata": {
        "id": "jhDrVLHy4ccH"
      },
      "source": [
        "c = a[2:4]\n",
        "print (c)"
      ],
      "execution_count": null,
      "outputs": []
    },
    {
      "cell_type": "code",
      "metadata": {
        "id": "DMe9VFw_4xn1"
      },
      "source": [
        "print (len(c))"
      ],
      "execution_count": null,
      "outputs": []
    },
    {
      "cell_type": "code",
      "metadata": {
        "id": "rUQUC3pa4MhA"
      },
      "source": [
        "a = []\n",
        "print (a)"
      ],
      "execution_count": null,
      "outputs": []
    },
    {
      "cell_type": "markdown",
      "metadata": {
        "id": "c0QOr__1103r"
      },
      "source": [
        "#### Tuple (extended data type)"
      ]
    },
    {
      "cell_type": "code",
      "metadata": {
        "id": "6zPu2iJs2crj"
      },
      "source": [
        "# Tuple - collection of items which are ordered but immutable.\n",
        "# Constructor is tuple()\n",
        "a = (\"hello\", \"how\", (1, 2, 3), \"you\")"
      ],
      "execution_count": 86,
      "outputs": []
    },
    {
      "cell_type": "code",
      "metadata": {
        "id": "jQOy8m8j2gSo",
        "outputId": "fd83821e-4d44-4ef9-a33f-c1e6712d908a",
        "colab": {
          "base_uri": "https://localhost:8080/"
        }
      },
      "source": [
        "print (type(a))"
      ],
      "execution_count": 87,
      "outputs": [
        {
          "output_type": "stream",
          "name": "stdout",
          "text": [
            "<class 'tuple'>\n"
          ]
        }
      ]
    },
    {
      "cell_type": "code",
      "metadata": {
        "id": "NyRXLzGc403j",
        "outputId": "962f18d0-1efc-4b31-c676-b3089b24fc47",
        "colab": {
          "base_uri": "https://localhost:8080/"
        }
      },
      "source": [
        "print (len(a))"
      ],
      "execution_count": 88,
      "outputs": [
        {
          "output_type": "stream",
          "name": "stdout",
          "text": [
            "4\n"
          ]
        }
      ]
    },
    {
      "cell_type": "code",
      "metadata": {
        "id": "RXX7JrZXk8mW"
      },
      "source": [
        "for i in range(0, len(a)): print (a[i])"
      ],
      "execution_count": null,
      "outputs": []
    },
    {
      "cell_type": "code",
      "metadata": {
        "id": "mMUF7ZBz2gO0",
        "outputId": "d33933db-6b87-482d-e28f-a0a9065f648e",
        "colab": {
          "base_uri": "https://localhost:8080/"
        }
      },
      "source": [
        "print (a[0])"
      ],
      "execution_count": 91,
      "outputs": [
        {
          "output_type": "stream",
          "name": "stdout",
          "text": [
            "hello\n"
          ]
        }
      ]
    },
    {
      "cell_type": "code",
      "metadata": {
        "id": "56ure9QY2gLL"
      },
      "source": [
        "b = a[1:3]"
      ],
      "execution_count": 101,
      "outputs": []
    },
    {
      "cell_type": "code",
      "metadata": {
        "id": "Jauf9eI9kyBS",
        "outputId": "31725a4c-87bc-4da5-ae40-d65cc365d28d",
        "colab": {
          "base_uri": "https://localhost:8080/"
        }
      },
      "source": [
        "type(b)"
      ],
      "execution_count": 103,
      "outputs": [
        {
          "output_type": "execute_result",
          "data": {
            "text/plain": [
              "tuple"
            ]
          },
          "metadata": {},
          "execution_count": 103
        }
      ]
    },
    {
      "cell_type": "code",
      "metadata": {
        "id": "BJECFoFI28zD"
      },
      "source": [
        "print (b)"
      ],
      "execution_count": null,
      "outputs": []
    },
    {
      "cell_type": "code",
      "metadata": {
        "id": "5gx8RJnq5GiE"
      },
      "source": [
        "print (b[-1])"
      ],
      "execution_count": null,
      "outputs": []
    },
    {
      "cell_type": "code",
      "metadata": {
        "id": "MjpzmtXBtjdE",
        "outputId": "0775406d-7d15-4da1-df58-c99a45548e4f",
        "colab": {
          "base_uri": "https://localhost:8080/"
        }
      },
      "source": [
        "#using Constructor\n",
        "new_set = set(('this', 1, \"is\", \"fine\"))\n",
        "new_set"
      ],
      "execution_count": 108,
      "outputs": [
        {
          "output_type": "execute_result",
          "data": {
            "text/plain": [
              "{1, 'fine', 'is', 'this'}"
            ]
          },
          "metadata": {},
          "execution_count": 108
        }
      ]
    },
    {
      "cell_type": "markdown",
      "metadata": {
        "id": "WtFeKcuL16MW"
      },
      "source": [
        "#### Dictionary (extended data type)"
      ]
    },
    {
      "cell_type": "code",
      "metadata": {
        "id": "kOrp2T1s6sCc"
      },
      "source": [
        "# Dictionary - collection of pairs of (key, value) which are mutable\n",
        "# Constructor is dict()"
      ],
      "execution_count": 109,
      "outputs": []
    },
    {
      "cell_type": "code",
      "metadata": {
        "id": "zDByZj8kWWxh"
      },
      "source": [
        "some_dict = dict({\"age\": 47, \n",
        "                  \"name\": \"Amar\", \n",
        "                  \"marks\": [23, 25, 24, 23]})"
      ],
      "execution_count": 110,
      "outputs": []
    },
    {
      "cell_type": "code",
      "metadata": {
        "id": "cLsbT3Ovvug0",
        "outputId": "e497fac5-3fbd-4115-ea83-f2a8c4726192",
        "colab": {
          "base_uri": "https://localhost:8080/"
        }
      },
      "source": [
        "type(some_dict)"
      ],
      "execution_count": 111,
      "outputs": [
        {
          "output_type": "execute_result",
          "data": {
            "text/plain": [
              "dict"
            ]
          },
          "metadata": {},
          "execution_count": 111
        }
      ]
    },
    {
      "cell_type": "code",
      "metadata": {
        "id": "j6uIEOVsvixp"
      },
      "source": [
        "another_dict = {\"age\": 47, \n",
        "                  \"name\": \"Amar\", \n",
        "                  \"marks\": [23, 25, 24, 23]}"
      ],
      "execution_count": 113,
      "outputs": []
    },
    {
      "cell_type": "code",
      "metadata": {
        "id": "0-RkMWtevneW",
        "outputId": "8689289d-6360-4618-e783-ea3b70263c10",
        "colab": {
          "base_uri": "https://localhost:8080/"
        }
      },
      "source": [
        "type(another_dict)"
      ],
      "execution_count": 114,
      "outputs": [
        {
          "output_type": "execute_result",
          "data": {
            "text/plain": [
              "dict"
            ]
          },
          "metadata": {},
          "execution_count": 114
        }
      ]
    },
    {
      "cell_type": "code",
      "metadata": {
        "id": "ScUuut2DRtwW",
        "outputId": "a48268f5-8927-4c43-e42e-184b69963694",
        "colab": {
          "base_uri": "https://localhost:8080/"
        }
      },
      "source": [
        "print (another_dict.get(\"marks\"))"
      ],
      "execution_count": 121,
      "outputs": [
        {
          "output_type": "stream",
          "name": "stdout",
          "text": [
            "[23, 24, 25]\n"
          ]
        }
      ]
    },
    {
      "cell_type": "code",
      "metadata": {
        "id": "Jr2ocM04wdwG"
      },
      "source": [
        "# update value against a key\n",
        "another_dict[\"marks\"] = [23, 24, 25]"
      ],
      "execution_count": 116,
      "outputs": []
    },
    {
      "cell_type": "code",
      "metadata": {
        "id": "5FLSAGzlxUMi"
      },
      "source": [
        "# adding a new key-value pair\n",
        "another_dict[\"gender\"] = \"Male\""
      ],
      "execution_count": 117,
      "outputs": []
    },
    {
      "cell_type": "code",
      "metadata": {
        "id": "3xFsIN13zS48",
        "outputId": "392d4e02-1e5e-4c87-8f4c-26a81ea9f73a",
        "colab": {
          "base_uri": "https://localhost:8080/"
        }
      },
      "source": [
        "another_dict"
      ],
      "execution_count": 118,
      "outputs": [
        {
          "output_type": "execute_result",
          "data": {
            "text/plain": [
              "{'age': 47, 'gender': 'Male', 'marks': [23, 24, 25], 'name': 'Amar'}"
            ]
          },
          "metadata": {},
          "execution_count": 118
        }
      ]
    },
    {
      "cell_type": "code",
      "metadata": {
        "id": "lgNNC1V1zJ_p",
        "outputId": "177e33ec-6559-4ea1-b05f-a6557045b0d5",
        "colab": {
          "base_uri": "https://localhost:8080/",
          "height": 35
        }
      },
      "source": [
        "# removing a key-value pair using pop\n",
        "another_dict.pop(\"gender\")"
      ],
      "execution_count": 119,
      "outputs": [
        {
          "output_type": "execute_result",
          "data": {
            "application/vnd.google.colaboratory.intrinsic+json": {
              "type": "string"
            },
            "text/plain": [
              "'Male'"
            ]
          },
          "metadata": {},
          "execution_count": 119
        }
      ]
    },
    {
      "cell_type": "code",
      "metadata": {
        "id": "zLcTq049y_7F",
        "outputId": "a937d750-23e0-418f-fe6e-463032a80e43",
        "colab": {
          "base_uri": "https://localhost:8080/"
        }
      },
      "source": [
        "another_dict"
      ],
      "execution_count": 120,
      "outputs": [
        {
          "output_type": "execute_result",
          "data": {
            "text/plain": [
              "{'age': 47, 'marks': [23, 24, 25], 'name': 'Amar'}"
            ]
          },
          "metadata": {},
          "execution_count": 120
        }
      ]
    },
    {
      "cell_type": "code",
      "metadata": {
        "id": "a5kPOWcJwSVy"
      },
      "source": [
        "print (some_dict.keys())"
      ],
      "execution_count": null,
      "outputs": []
    },
    {
      "cell_type": "markdown",
      "metadata": {
        "id": "n6S0H1QCzvjY"
      },
      "source": [
        "#### Python Identity Operators - is, is not"
      ]
    },
    {
      "cell_type": "code",
      "metadata": {
        "id": "9pBVi4a0z2q5"
      },
      "source": [
        "a = [\"some\", \"list\"]\n",
        "b = [\"some\", \"list\"]\n"
      ],
      "execution_count": null,
      "outputs": []
    },
    {
      "cell_type": "code",
      "metadata": {
        "id": "a_rsTrml6M1o"
      },
      "source": [
        "if a is b: \n",
        "   print ('a and b reference the same object')\n",
        "else:\n",
        "   print ('a and b do not reference the same object')"
      ],
      "execution_count": null,
      "outputs": []
    },
    {
      "cell_type": "code",
      "metadata": {
        "id": "3Cf-mRXx6Olj"
      },
      "source": [
        "if a == b:\n",
        "   print ('However, the values of a and b are the same')\n",
        "else:\n",
        "   print (\"The values of a and b are different\")"
      ],
      "execution_count": null,
      "outputs": []
    },
    {
      "cell_type": "code",
      "metadata": {
        "id": "2E_co7_i6MbJ"
      },
      "source": [
        "if a is not b:\n",
        "   print ('tested, they are indeed different')"
      ],
      "execution_count": null,
      "outputs": []
    },
    {
      "cell_type": "markdown",
      "metadata": {
        "id": "sWA5Ii-BU7vA"
      },
      "source": [
        ""
      ]
    },
    {
      "cell_type": "markdown",
      "metadata": {
        "id": "JkZFcHU2z3OC"
      },
      "source": [
        "#### Python Membership Operators - in, not in"
      ]
    },
    {
      "cell_type": "code",
      "metadata": {
        "id": "CR8tAc1_rW11"
      },
      "source": [
        "a = [\"this\", \"is\", \"a\", \"new\", \"list\"]"
      ],
      "execution_count": 122,
      "outputs": []
    },
    {
      "cell_type": "code",
      "metadata": {
        "id": "UibZiI5e2cBj",
        "outputId": "71d9863e-fc35-468d-8ddd-80e5b0678cc3",
        "colab": {
          "base_uri": "https://localhost:8080/"
        }
      },
      "source": [
        "% time\n",
        "for item in a: \n",
        "  print (item,end=' ')"
      ],
      "execution_count": 124,
      "outputs": [
        {
          "output_type": "stream",
          "name": "stdout",
          "text": [
            "CPU times: user 4 µs, sys: 0 ns, total: 4 µs\n",
            "Wall time: 8.58 µs\n",
            "this is a new list "
          ]
        }
      ]
    },
    {
      "cell_type": "code",
      "metadata": {
        "id": "n_uiZE9CsPMF",
        "outputId": "df472f75-8270-4757-ad28-b7e976fec4b0",
        "colab": {
          "base_uri": "https://localhost:8080/"
        }
      },
      "source": [
        "% time\n",
        "for item in a:\n",
        "  print (item, end=\" \")"
      ],
      "execution_count": 125,
      "outputs": [
        {
          "output_type": "stream",
          "name": "stdout",
          "text": [
            "CPU times: user 4 µs, sys: 0 ns, total: 4 µs\n",
            "Wall time: 7.63 µs\n",
            "this is a new list "
          ]
        }
      ]
    },
    {
      "cell_type": "code",
      "metadata": {
        "id": "Zo1Ec35N2cgk",
        "outputId": "08d7c483-dc00-4b15-e803-6d5412dd1f28",
        "colab": {
          "base_uri": "https://localhost:8080/"
        }
      },
      "source": [
        "if \"new\" in a: print ('Yes, matching item found')"
      ],
      "execution_count": 126,
      "outputs": [
        {
          "output_type": "stream",
          "name": "stdout",
          "text": [
            "Yes, matching item found\n"
          ]
        }
      ]
    },
    {
      "cell_type": "code",
      "metadata": {
        "id": "5bieGXu5z9Qk",
        "outputId": "69b01655-93fd-4359-f65f-eb2887cd0b7a",
        "colab": {
          "base_uri": "https://localhost:8080/"
        }
      },
      "source": [
        "if (\"list\" not in a):\n",
        "  print (\"Am I wrong\")\n",
        "else:\n",
        "  print (\"Am I right\")"
      ],
      "execution_count": 127,
      "outputs": [
        {
          "output_type": "stream",
          "name": "stdout",
          "text": [
            "Am I right\n"
          ]
        }
      ]
    },
    {
      "cell_type": "markdown",
      "metadata": {
        "id": "AbmcGntt-yTg"
      },
      "source": [
        "#### More Detailed Examples"
      ]
    },
    {
      "cell_type": "markdown",
      "metadata": {
        "id": "sH8rekL73ae4"
      },
      "source": [
        "1. [Python Variables, Data Types](https://www.w3schools.com/python/python_variables.asp) and \n",
        "[Python Exercises ](https://www.w3schools.com/python/python_exercises.asp)\n",
        "2. [Official Python Documentation](https://docs.python.org/3/tutorial/introduction.html)"
      ]
    }
  ]
}