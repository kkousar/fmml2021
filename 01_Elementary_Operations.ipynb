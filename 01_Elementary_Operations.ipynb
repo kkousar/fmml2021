{
  "nbformat": 4,
  "nbformat_minor": 0,
  "metadata": {
    "colab": {
      "name": "01_Elementary_Operations.ipynb",
      "provenance": [],
      "include_colab_link": true
    },
    "kernelspec": {
      "name": "python3",
      "display_name": "Python 3"
    },
    "language_info": {
      "name": "python"
    }
  },
  "cells": [
    {
      "cell_type": "markdown",
      "metadata": {
        "id": "view-in-github",
        "colab_type": "text"
      },
      "source": [
        "<a href=\"https://colab.research.google.com/github/kkousar/fmml2021/blob/main/01_Elementary_Operations.ipynb\" target=\"_parent\"><img src=\"https://colab.research.google.com/assets/colab-badge.svg\" alt=\"Open In Colab\"/></a>"
      ]
    },
    {
      "cell_type": "code",
      "metadata": {
        "id": "d_4Xzhe4p5Jh",
        "colab": {
          "base_uri": "https://localhost:8080/"
        },
        "outputId": "0faba7a0-8c8f-4b5e-cdbc-9ae4194fab9d"
      },
      "source": [
        "!python --version"
      ],
      "execution_count": null,
      "outputs": [
        {
          "output_type": "stream",
          "name": "stdout",
          "text": [
            "Python 3.7.11\n"
          ]
        }
      ]
    },
    {
      "cell_type": "markdown",
      "metadata": {
        "id": "LQ7shzxUfj6N"
      },
      "source": [
        "### Elementary operations"
      ]
    },
    {
      "cell_type": "markdown",
      "metadata": {
        "id": "PI0fJw10fswU"
      },
      "source": [
        "#### Basic Calculator Operations\n",
        "\" addition + ,  subtraction  -  , multiplication  *  , division /  ,  exponent ** , modulus  %  , floor division  // \""
      ]
    },
    {
      "cell_type": "code",
      "metadata": {
        "id": "dm1hT_B9jXGu"
      },
      "source": [
        "7+2\n",
        "        # addition"
      ],
      "execution_count": null,
      "outputs": []
    },
    {
      "cell_type": "code",
      "metadata": {
        "id": "sUhkQPuhXbYj"
      },
      "source": [
        "3 - 2         # subtraction"
      ],
      "execution_count": null,
      "outputs": []
    },
    {
      "cell_type": "code",
      "metadata": {
        "id": "B1gLBI1LXo1m"
      },
      "source": [
        "5 * 3         # multiplication"
      ],
      "execution_count": null,
      "outputs": []
    },
    {
      "cell_type": "code",
      "metadata": {
        "id": "TwvpedNVXzRc",
        "colab": {
          "base_uri": "https://localhost:8080/"
        },
        "outputId": "fb34ae8c-9740-4f8e-cf0e-631fbf9b395f"
      },
      "source": [
        "7/2\n",
        "\n",
        "        # division (always returns a float)"
      ],
      "execution_count": null,
      "outputs": [
        {
          "output_type": "execute_result",
          "data": {
            "text/plain": [
              "3.5"
            ]
          },
          "metadata": {},
          "execution_count": 7
        }
      ]
    },
    {
      "cell_type": "code",
      "metadata": {
        "id": "2LQZZcRPX5Bt",
        "colab": {
          "base_uri": "https://localhost:8080/"
        },
        "outputId": "b07492a7-39cb-4a78-a381-c9c21592b6e0"
      },
      "source": [
        "type (6.78)"
      ],
      "execution_count": null,
      "outputs": [
        {
          "output_type": "execute_result",
          "data": {
            "text/plain": [
              "float"
            ]
          },
          "metadata": {},
          "execution_count": 14
        }
      ]
    },
    {
      "cell_type": "code",
      "metadata": {
        "id": "qjJkqqXcX95p",
        "colab": {
          "base_uri": "https://localhost:8080/"
        },
        "outputId": "6b1ca877-5974-4256-cef1-de3c73daf8e2"
      },
      "source": [
        "7 // 2        # floor division (returns an integer - discards decimal part)"
      ],
      "execution_count": null,
      "outputs": [
        {
          "output_type": "execute_result",
          "data": {
            "text/plain": [
              "3"
            ]
          },
          "metadata": {},
          "execution_count": 6
        }
      ]
    },
    {
      "cell_type": "code",
      "metadata": {
        "id": "2L_ku8CLYKDC"
      },
      "source": [
        "type ( 7 // 2)"
      ],
      "execution_count": null,
      "outputs": []
    },
    {
      "cell_type": "code",
      "metadata": {
        "id": "dH2NmrgNYM97"
      },
      "source": [
        "7 % 2         # modulus operator - remainder is fetched after division"
      ],
      "execution_count": null,
      "outputs": []
    },
    {
      "cell_type": "code",
      "metadata": {
        "id": "wNTJter-YZ7W",
        "colab": {
          "base_uri": "https://localhost:8080/"
        },
        "outputId": "eed20839-ada7-42fc-8b5d-5f87128323dd"
      },
      "source": [
        "7 ** 2        # exponentiation "
      ],
      "execution_count": null,
      "outputs": [
        {
          "output_type": "execute_result",
          "data": {
            "text/plain": [
              "49"
            ]
          },
          "metadata": {},
          "execution_count": 16
        }
      ]
    },
    {
      "cell_type": "code",
      "metadata": {
        "id": "asikDVm7YvYT"
      },
      "source": [
        "5 - 2 * 2     # operator precedence : (), **, -(unary),  * or /, + or -"
      ],
      "execution_count": null,
      "outputs": []
    },
    {
      "cell_type": "code",
      "metadata": {
        "id": "YOcK-5d5eA39"
      },
      "source": [
        "# on string variables\n",
        "first_name = 'charlie'\n",
        "second_name = \"chaplin\""
      ],
      "execution_count": null,
      "outputs": []
    },
    {
      "cell_type": "code",
      "metadata": {
        "id": "oYu_ynPOeS2_",
        "colab": {
          "base_uri": "https://localhost:8080/",
          "height": 35
        },
        "outputId": "358f59c9-d4d7-479f-cc37-7df21fcd6fca"
      },
      "source": [
        "first_name + second_name"
      ],
      "execution_count": null,
      "outputs": [
        {
          "output_type": "execute_result",
          "data": {
            "application/vnd.google.colaboratory.intrinsic+json": {
              "type": "string"
            },
            "text/plain": [
              "'charliechaplin'"
            ]
          },
          "metadata": {},
          "execution_count": 20
        }
      ]
    },
    {
      "cell_type": "code",
      "metadata": {
        "id": "oIY8q8wgehFC",
        "colab": {
          "base_uri": "https://localhost:8080/",
          "height": 35
        },
        "outputId": "6b77e6e0-62d3-472d-efda-cde822d8f3e5"
      },
      "source": [
        "first_name + ' ' + second_name"
      ],
      "execution_count": null,
      "outputs": [
        {
          "output_type": "execute_result",
          "data": {
            "application/vnd.google.colaboratory.intrinsic+json": {
              "type": "string"
            },
            "text/plain": [
              "'charlie chaplin'"
            ]
          },
          "metadata": {},
          "execution_count": 21
        }
      ]
    },
    {
      "cell_type": "code",
      "metadata": {
        "id": "6Vuv8iMbevRJ",
        "colab": {
          "base_uri": "https://localhost:8080/",
          "height": 35
        },
        "outputId": "64be3ab5-1d5c-462b-d2ee-9f61ad77831d"
      },
      "source": [
        "first_name * 2"
      ],
      "execution_count": null,
      "outputs": [
        {
          "output_type": "execute_result",
          "data": {
            "application/vnd.google.colaboratory.intrinsic+json": {
              "type": "string"
            },
            "text/plain": [
              "'charliecharlie'"
            ]
          },
          "metadata": {},
          "execution_count": 22
        }
      ]
    },
    {
      "cell_type": "code",
      "metadata": {
        "id": "QPblckrXe2ui",
        "colab": {
          "base_uri": "https://localhost:8080/",
          "height": 35
        },
        "outputId": "6417e134-f067-4cd2-fb9d-e29429ba40e2"
      },
      "source": [
        "(first_name * 2) + ' ' + (second_name * 3)"
      ],
      "execution_count": null,
      "outputs": [
        {
          "output_type": "execute_result",
          "data": {
            "application/vnd.google.colaboratory.intrinsic+json": {
              "type": "string"
            },
            "text/plain": [
              "'charliecharlie chaplinchaplinchaplin'"
            ]
          },
          "metadata": {},
          "execution_count": 23
        }
      ]
    },
    {
      "cell_type": "markdown",
      "metadata": {
        "id": "aLcLONZ1fLxt"
      },
      "source": [
        "### Some exercises..."
      ]
    },
    {
      "cell_type": "code",
      "metadata": {
        "id": "DRFAgL6DZYxm"
      },
      "source": [
        "# 1. A brick has dimensions 5 cm x 4 cm x 2 cm. Find volume.\n",
        "brick_length = 5\n",
        "brick_breadth = 4\n",
        "brick_height = 2"
      ],
      "execution_count": null,
      "outputs": []
    },
    {
      "cell_type": "code",
      "metadata": {
        "id": "pKZ7uDHCZ3At"
      },
      "source": [
        "brick_volume = brick_length * brick_breadth * brick_height\n",
        "print (brick_volume)"
      ],
      "execution_count": null,
      "outputs": []
    },
    {
      "cell_type": "code",
      "metadata": {
        "id": "S2zZsoBb2z45",
        "colab": {
          "base_uri": "https://localhost:8080/"
        },
        "outputId": "9a9fc10d-ab75-410d-f5b1-387eeba03b88"
      },
      "source": [
        "# 2. What will the expression -3 ** 2 evaluate to ?\n",
        "3\n",
        "-3**2"
      ],
      "execution_count": null,
      "outputs": [
        {
          "output_type": "execute_result",
          "data": {
            "text/plain": [
              "-9"
            ]
          },
          "metadata": {},
          "execution_count": 31
        }
      ]
    },
    {
      "cell_type": "markdown",
      "metadata": {
        "id": "nPqa-OG28yg_"
      },
      "source": [
        "*Exercise (do it yourself) :* A litre of petrol costs Rs 102. Your two wheeler gives a mileage of 38 kms per litre of petrol. How much of a distance can you travel with fuel worth Rs 50."
      ]
    },
    {
      "cell_type": "code",
      "metadata": {
        "id": "m-sXIAGfpi4K",
        "colab": {
          "base_uri": "https://localhost:8080/"
        },
        "outputId": "00d0c6f3-0609-45a7-e290-2ec0559e5310"
      },
      "source": [
        "fuel_price=102\n",
        "mileage=38\n",
        "cash=50\n",
        "distance=(mileage/fuel_price) * cash\n",
        "print (\"the distance you can travel is:\",round(distance,3))"
      ],
      "execution_count": 1,
      "outputs": [
        {
          "output_type": "stream",
          "name": "stdout",
          "text": [
            "the distance you can travel is: 18.627\n"
          ]
        }
      ]
    },
    {
      "cell_type": "code",
      "metadata": {
        "id": "fnQglYbCr1W7"
      },
      "source": [
        ""
      ],
      "execution_count": null,
      "outputs": []
    },
    {
      "cell_type": "code",
      "metadata": {
        "id": "hAYHvnNUs4Lc"
      },
      "source": [
        ""
      ],
      "execution_count": null,
      "outputs": []
    },
    {
      "cell_type": "markdown",
      "metadata": {
        "id": "z7Vub3IKrV8Q"
      },
      "source": [
        "\n"
      ]
    },
    {
      "cell_type": "markdown",
      "metadata": {
        "id": "ytNVq_perVx8"
      },
      "source": [
        ""
      ]
    },
    {
      "cell_type": "markdown",
      "metadata": {
        "id": "THho6CuJrVJu"
      },
      "source": [
        ""
      ]
    },
    {
      "cell_type": "code",
      "metadata": {
        "id": "fZ4Tpi0B27lf"
      },
      "source": [
        ""
      ],
      "execution_count": null,
      "outputs": []
    },
    {
      "cell_type": "markdown",
      "metadata": {
        "id": "vUAWMNbjiSvf"
      },
      "source": [
        "#### References"
      ]
    },
    {
      "cell_type": "markdown",
      "metadata": {
        "id": "KmpvkMmKiVcZ"
      },
      "source": [
        "1. [Python Operators](https://www.w3schools.com/python/python_operators.asp) and [Python Exercises](https://www.w3schools.com/python/exercise.asp)\n",
        "2. [Official Python Documentation](https://docs.python.org/3/tutorial/introduction.html)\n"
      ]
    }
  ]
}